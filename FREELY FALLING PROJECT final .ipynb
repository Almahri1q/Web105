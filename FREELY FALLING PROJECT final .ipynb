{
 "cells": [
  {
   "cell_type": "markdown",
   "id": "33fe1c16",
   "metadata": {},
   "source": [
    "# **Lab report: Freely Falling object**\n",
    "\n",
    "**Introduction**\n",
    "\n",
    "Free falling is the linear motion of an object in which only the force of gravity is acting on the object, expressed as the weight of the object. With Python makes it easier and faster to solve physic problems like the acceleration of a free falling object. \n",
    "\n",
    "**Objective**\n",
    "\n",
    "1. Presenting and plotting a physical experiment using the Python programming \n",
    "language.\n",
    "2. find the gravity acceleration for free falling object.\n",
    "3. learn new things about python and work on it\n"
   ]
  },
  {
   "cell_type": "markdown",
   "id": "3f46afe4",
   "metadata": {},
   "source": [
    "# Tools : "
   ]
  },
  {
   "cell_type": "code",
   "execution_count": 93,
   "id": "4f23623d",
   "metadata": {},
   "outputs": [],
   "source": [
    "import pandas as pd\n",
    "import matplotlib.pyplot as plt\n",
    "import seaborn as sns\n",
    "from IPython.display import Image\n",
    "from IPython.display import YouTubeVideo "
   ]
  },
  {
   "cell_type": "code",
   "execution_count": 94,
   "id": "5e4be1e2",
   "metadata": {},
   "outputs": [
    {
     "data": {
      "text/plain": [
       "'/Users/ha'"
      ]
     },
     "execution_count": 94,
     "metadata": {},
     "output_type": "execute_result"
    }
   ],
   "source": [
    "import os\n",
    "os.getcwd()"
   ]
  },
  {
   "cell_type": "markdown",
   "id": "509af666",
   "metadata": {},
   "source": [
    "# intro & obj & data analysis:"
   ]
  },
  {
   "cell_type": "code",
   "execution_count": 95,
   "id": "9df2a6c0",
   "metadata": {},
   "outputs": [
    {
     "name": "stdout",
     "output_type": "stream",
     "text": [
      "\u001b[1;31m  Freely Falling object \n",
      " \n",
      " \n",
      "\n",
      "\u001b[2;33m  Introduction \n",
      "\n",
      "\u001b[5;34m  A free falling object is an object that is falling under the sole influence of gravity.\n",
      "\u001b[5;34m  Any object that is being acted upon only by the force of gravity is said to be in a state of free fall.\n",
      "\n",
      "\u001b[5;32m  There are two important motion characteristics that are true of free-falling objects:\n",
      "\n",
      "\u001b[5;35m  1\\Free-falling objects do not encounter air resistance.\n",
      "\u001b[5;35m  2\\All free-falling objects (on Earth) accelerate downwards at a rate of 9.8 m/s/s\n",
      "\u001b[5;35m (often approximated as 10 m/s/s for back-of-the-envelope calculations). \n",
      "\n",
      "\n"
     ]
    },
    {
     "data": {
      "image/gif": "[encoded data removed]",
      "text/plain": [
       "<IPython.core.display.Image object>"
      ]
     },
     "metadata": {},
     "output_type": "display_data"
    },
    {
     "data": {
      "image/gif": "[encoded data removed]",
      "text/plain": [
       "<IPython.core.display.Image object>"
      ]
     },
     "metadata": {},
     "output_type": "display_data"
    }
   ],
   "source": [
    "print(\"\\033[1;31m  Freely Falling object \\n \\n \\n\")\n",
    "print(\"\\033[2;33m  Introduction \\n\")\n",
    "print(\"\\033[5;34m  A free falling object is an object that is falling under the sole influence of gravity.\")\n",
    "print(\"\\033[5;34m  Any object that is being acted upon only by the force of gravity is said to be in a state of free fall.\\n\")\n",
    "print(\"\\033[5;32m  There are two important motion characteristics that are true of free-falling objects:\\n\")\n",
    "print(\"\\033[5;35m  1\\Free-falling objects do not encounter air resistance.\")\n",
    "print(\"\\033[5;35m  2\\All free-falling objects (on Earth) accelerate downwards at a rate of 9.8 m/s/s\" )\n",
    "print(\"\\033[5;35m (often approximated as 10 m/s/s for back-of-the-envelope calculations). \\n\\n\")\n",
    "\n",
    "gif_path1 = './HOOR/Picture1.gif'\n",
    "gif_path2 = './HOOR/Picture2.gif'\n",
    "# Create Image instances for the GIFs\n",
    "image1 = Image(filename=gif_path1, format='gif')\n",
    "image2 = Image(filename=gif_path2, format='gif')\n",
    "\n",
    "\n",
    "\n",
    "# Display the GIFs\n",
    "display(image1)\n",
    "display(image2)\n"
   ]
  },
  {
   "cell_type": "code",
   "execution_count": 96,
   "id": "5905bd45",
   "metadata": {},
   "outputs": [
    {
     "name": "stdout",
     "output_type": "stream",
     "text": [
      "\u001b[1;31m  Freely Falling object video :  \n",
      " \n",
      " \n",
      "\n"
     ]
    },
    {
     "data": {
      "image/jpeg": "[encoded data removed]",
      "text/html": [
       "\n",
       "        <iframe\n",
       "            width=\"400\"\n",
       "            height=\"300\"\n",
       "            src=\"https://www.youtube.com/embed/z_sJ15feNGw\"\n",
       "            frameborder=\"0\"\n",
       "            allowfullscreen\n",
       "        ></iframe>\n",
       "        "
      ],
      "text/plain": [
       "<IPython.lib.display.YouTubeVideo at 0x7fba94f00fa0>"
      ]
     },
     "execution_count": 96,
     "metadata": {},
     "output_type": "execute_result"
    }
   ],
   "source": [
    "print(\"\\033[1;31m  Freely Falling object video :  \\n \\n \\n\")\n",
    "run=YouTubeVideo(\"z_sJ15feNGw\")\n",
    "run"
   ]
  },
  {
   "cell_type": "code",
   "execution_count": 97,
   "id": "027f523a",
   "metadata": {},
   "outputs": [
    {
     "name": "stdout",
     "output_type": "stream",
     "text": [
      "\u001b[5;31m  Data and data analysis:\n",
      "\n",
      " \n",
      "\n",
      "   D(mm)  r(mm)      r(m)\n",
      "0  11.95  5.975  0.005975\n"
     ]
    },
    {
     "data": {
      "text/html": [
       "<div>\n",
       "<style scoped>\n",
       "    .dataframe tbody tr th:only-of-type {\n",
       "        vertical-align: middle;\n",
       "    }\n",
       "\n",
       "    .dataframe tbody tr th {\n",
       "        vertical-align: top;\n",
       "    }\n",
       "\n",
       "    .dataframe thead th {\n",
       "        text-align: right;\n",
       "    }\n",
       "</style>\n",
       "<table border=\"1\" class=\"dataframe\">\n",
       "  <thead>\n",
       "    <tr style=\"text-align: right;\">\n",
       "      <th></th>\n",
       "      <th>D(mm)</th>\n",
       "      <th>r(mm)</th>\n",
       "      <th>r(m)</th>\n",
       "    </tr>\n",
       "  </thead>\n",
       "  <tbody>\n",
       "    <tr>\n",
       "      <th>0</th>\n",
       "      <td>11.95</td>\n",
       "      <td>5.975</td>\n",
       "      <td>0.005975</td>\n",
       "    </tr>\n",
       "  </tbody>\n",
       "</table>\n",
       "</div>"
      ],
      "text/plain": [
       "   D(mm)  r(mm)      r(m)\n",
       "0  11.95  5.975  0.005975"
      ]
     },
     "execution_count": 97,
     "metadata": {},
     "output_type": "execute_result"
    }
   ],
   "source": [
    "print(\"\\033[5;31m  Data and data analysis:\") \n",
    "print(\"\\n \\n\")\n",
    "\n",
    "\n",
    "data = {'D(mm)': [11.95],\n",
    "        'r(mm)': [5.975]}\n",
    "\n",
    "df1 = pd.DataFrame(data)\n",
    "\n",
    "# Convert 'r(mm)' to 'r(m)' by dividing by 1000\n",
    "df1['r(m)'] = df1['r(mm)'] / 1000\n",
    "print(df1)\n",
    "\n",
    "\n",
    "df1"
   ]
  },
  {
   "cell_type": "code",
   "execution_count": 98,
   "id": "86564d96",
   "metadata": {},
   "outputs": [],
   "source": [
    "# Read the CSV file into a DataFrame\n",
    "df = pd.read_csv('./HOOR/table.csv')\n",
    "\n",
    "# Add column 'h(m)' by dividing 'h(cm)' by 100\n",
    "df['h(m)'] = df['h(cm)'] / 100\n",
    "\n",
    "# Extract the value from df1['r(m)']\n",
    "r_m_value = df1['r(m)'].values[0]\n",
    "\n",
    "# Subtract 'h(m)' from 'r(m)' and assign it to 'h-r(m)' column\n",
    "df['h-r(m)'] = df['h(m)'] - r_m_value\n",
    "\n",
    "# Calculate the average of 'T1(msec)' and 'T2(msec)' and store it in 'T(mes)'\n",
    "df['T(mes)'] = (df['T1(msec)'] + df['T2(msec)']) / 2\n",
    "\n",
    "# Add column 'T(sec)' by dividing 'T(mes)' by 1000 to convert from milliseconds to seconds\n",
    "df['T(sec)'] = df['T(mes)'] / 1000\n",
    "\n",
    "# Add column 'T^2(sec^2)' by squaring 'T(sec)'\n",
    "df['T^2(sec^2)'] = df['T(sec)'] ** 2\n",
    "\n"
   ]
  },
  {
   "cell_type": "code",
   "execution_count": 99,
   "id": "cb4fcdf9",
   "metadata": {},
   "outputs": [
    {
     "data": {
      "text/html": [
       "<div>\n",
       "<style scoped>\n",
       "    .dataframe tbody tr th:only-of-type {\n",
       "        vertical-align: middle;\n",
       "    }\n",
       "\n",
       "    .dataframe tbody tr th {\n",
       "        vertical-align: top;\n",
       "    }\n",
       "\n",
       "    .dataframe thead th {\n",
       "        text-align: right;\n",
       "    }\n",
       "</style>\n",
       "<table border=\"1\" class=\"dataframe\">\n",
       "  <thead>\n",
       "    <tr style=\"text-align: right;\">\n",
       "      <th></th>\n",
       "      <th>h(cm)</th>\n",
       "      <th>T1(msec)</th>\n",
       "      <th>T2(msec)</th>\n",
       "      <th>h(m)</th>\n",
       "      <th>h-r(m)</th>\n",
       "      <th>T(mes)</th>\n",
       "      <th>T(sec)</th>\n",
       "      <th>T^2(sec^2)</th>\n",
       "    </tr>\n",
       "  </thead>\n",
       "  <tbody>\n",
       "    <tr>\n",
       "      <th>0</th>\n",
       "      <td>70</td>\n",
       "      <td>374.38</td>\n",
       "      <td>372.95</td>\n",
       "      <td>0.7</td>\n",
       "      <td>0.694025</td>\n",
       "      <td>373.665</td>\n",
       "      <td>0.373665</td>\n",
       "      <td>0.139626</td>\n",
       "    </tr>\n",
       "    <tr>\n",
       "      <th>1</th>\n",
       "      <td>60</td>\n",
       "      <td>345.03</td>\n",
       "      <td>346.44</td>\n",
       "      <td>0.6</td>\n",
       "      <td>0.594025</td>\n",
       "      <td>345.735</td>\n",
       "      <td>0.345735</td>\n",
       "      <td>0.119533</td>\n",
       "    </tr>\n",
       "    <tr>\n",
       "      <th>2</th>\n",
       "      <td>50</td>\n",
       "      <td>313.37</td>\n",
       "      <td>313.45</td>\n",
       "      <td>0.5</td>\n",
       "      <td>0.494025</td>\n",
       "      <td>313.410</td>\n",
       "      <td>0.313410</td>\n",
       "      <td>0.098226</td>\n",
       "    </tr>\n",
       "    <tr>\n",
       "      <th>3</th>\n",
       "      <td>40</td>\n",
       "      <td>280.48</td>\n",
       "      <td>282.80</td>\n",
       "      <td>0.4</td>\n",
       "      <td>0.394025</td>\n",
       "      <td>281.640</td>\n",
       "      <td>0.281640</td>\n",
       "      <td>0.079321</td>\n",
       "    </tr>\n",
       "    <tr>\n",
       "      <th>4</th>\n",
       "      <td>30</td>\n",
       "      <td>239.11</td>\n",
       "      <td>240.81</td>\n",
       "      <td>0.3</td>\n",
       "      <td>0.294025</td>\n",
       "      <td>239.960</td>\n",
       "      <td>0.239960</td>\n",
       "      <td>0.057581</td>\n",
       "    </tr>\n",
       "  </tbody>\n",
       "</table>\n",
       "</div>"
      ],
      "text/plain": [
       "   h(cm)  T1(msec)  T2(msec)  h(m)    h-r(m)   T(mes)    T(sec)  T^2(sec^2)\n",
       "0     70    374.38    372.95   0.7  0.694025  373.665  0.373665    0.139626\n",
       "1     60    345.03    346.44   0.6  0.594025  345.735  0.345735    0.119533\n",
       "2     50    313.37    313.45   0.5  0.494025  313.410  0.313410    0.098226\n",
       "3     40    280.48    282.80   0.4  0.394025  281.640  0.281640    0.079321\n",
       "4     30    239.11    240.81   0.3  0.294025  239.960  0.239960    0.057581"
      ]
     },
     "execution_count": 99,
     "metadata": {},
     "output_type": "execute_result"
    }
   ],
   "source": [
    "df"
   ]
  },
  {
   "cell_type": "code",
   "execution_count": 110,
   "id": "db93fa5d",
   "metadata": {},
   "outputs": [
    {
     "name": "stdout",
     "output_type": "stream",
     "text": [
      "\n",
      " \n",
      "\n",
      "\u001b[5;31m  Line graph :\n",
      "\u001b[5;35m __________________________\n",
      "\n",
      " \n",
      "\n"
     ]
    },
    {
     "data": {
      "image/png": "[encoded data removed]",
      "text/plain": [
       "<Figure size 432x288 with 1 Axes>"
      ]
     },
     "metadata": {},
     "output_type": "display_data"
    }
   ],
   "source": [
    "print(\"\\n \\n\")\n",
    "print(\"\\033[5;31m  Line graph :\") \n",
    "print(\"\\033[5;35m __________________________\")\n",
    "print(\"\\n \\n\")\n",
    "\n",
    "\n",
    "\n",
    "\n",
    "# Plot 'h-r(m)' against 'T2'\n",
    "plt.plot(df['h-r(m)'], df['T2(msec)'], marker='o', linestyle='-', color='pink')\n",
    "\n",
    "# Set the axis labels\n",
    "plt.xlabel('h-r(m)')\n",
    "plt.ylabel('T2(msec)')\n",
    "\n",
    "# Set the title\n",
    "plt.title('Plot of h-r(m) vs. T2')\n",
    "# Display the plot\n",
    "plt.show()\n",
    "sns.set()\n"
   ]
  },
  {
   "cell_type": "markdown",
   "id": "893d0f10",
   "metadata": {},
   "source": [
    "# Slop& Experimental Errors:"
   ]
  },
  {
   "cell_type": "code",
   "execution_count": 116,
   "id": "86769c49",
   "metadata": {
    "scrolled": true
   },
   "outputs": [
    {
     "name": "stdout",
     "output_type": "stream",
     "text": [
      "\u001b[1;31m  the slope : \n",
      "  \n",
      "\u001b[5;35m slope of the graph T^2(s)^2 versus h(m):\n",
      "\u001b[5;33m  Points = (0.649,0.14),(0.294,0.6)\n",
      "\u001b[5;32m slope forumla = y2-y1/x2-x1\n",
      "\u001b[5;37m slope=   -1.2957746478873238\n",
      "\u001b  \n",
      " \n",
      "\u001b[1;31m  From the slope value find the gravity acceleration value: \n",
      " \n",
      "\u001b[5;37m gravity acceleration =   -1.5\n",
      "\u001b[31m the experimental error for the following measurements:\n",
      "\u001b[5;34m Smart time (+0.005 ,-0.005) mes \n",
      ", micrometer percentage error (+0.005 ,-0.005) mm\n",
      "\n",
      " \n",
      "\n",
      "\u001b[39m How does your value for ‘g’ compare to the accepted value of the acceleration of a free- falling object (9.81 m/s^2) ?\n",
      "\u001b[5;36m E=  -8.0 %\n",
      "\n",
      " \n",
      "\n",
      "\u001b[39m If the mass of the ball is increased, what will be the value of g? ? \n",
      "\u001b[5;36m It's will be constant.\n",
      "\u001b[5;36m ----------------\n",
      "\n",
      " \n",
      "\n"
     ]
    }
   ],
   "source": [
    "print(\"\\033[1;31m  the slope : \\n  \")\n",
    "print(\"\\033[5;35m slope of the graph T^2(s)^2 versus h(m):\")\n",
    "print(\"\\033[5;33m  Points = (0.649,0.14),(0.294,0.6)\")\n",
    "print(\"\\033[5;32m slope forumla = y2-y1/x2-x1\")\n",
    "\n",
    "x1 = 0.649\n",
    "y1 = 0.14\n",
    "x2 = 0.294\n",
    "y2 = 0.6\n",
    "s = (y2 - y1) / (x2 - x1)\n",
    "\n",
    "print(\"\\033[5;37m slope=  \",s)\n",
    "print(\"\\033  \\n \")\n",
    "print(\"\\033[1;31m  From the slope value find the gravity acceleration value: \\n \")\n",
    "a= 2\n",
    "ss= -1.2957746478873238\n",
    "g= (2/ss)\n",
    "print(\"\\033[5;37m gravity acceleration =  \",round(g,1))\n",
    "\n",
    "print(\"\\033[31m the experimental error for the following measurements:\")\n",
    "\n",
    "systematic_pe= \"(+0.005 ,-0.005)\"\n",
    "\n",
    "print(\"\\033[5;34m Smart time {} mes \\n, micrometer percentage error {} mm\".format(systematic_pe,systematic_pe))\n",
    "print(\"\\n \\n\")\n",
    "\n",
    "print(\"\\033[39m How does your value for ‘g’ compare to the accepted value of the acceleration of a free- falling object (9.81 m/s^2) ?\")\n",
    "g_exp= 9.1\n",
    "g_th= 9.89\n",
    "p_e = ((g_exp-g_th)/(g_th))*100\n",
    "\n",
    "print(\"\\033[5;36m E= \",round (p_e,1),\"%\")\n",
    "print(\"\\n \\n\")\n",
    "print(\"\\033[39m If the mass of the ball is increased, what will be the value of g? ? \")\n",
    "print(\"\\033[5;36m It's will be constant.\")\n",
    "\n",
    "print(\"\\033[5;36m ----------------\")\n",
    "print(\"\\n \\n\")"
   ]
  },
  {
   "cell_type": "code",
   "execution_count": null,
   "id": "2af3230e",
   "metadata": {},
   "outputs": [],
   "source": []
  }
 ],
 "metadata": {
  "kernelspec": {
   "display_name": "Python 3",
   "language": "python",
   "name": "python3"
  },
  "language_info": {
   "codemirror_mode": {
    "name": "ipython",
    "version": 3
   },
   "file_extension": ".py",
   "mimetype": "text/x-python",
   "name": "python",
   "nbconvert_exporter": "python",
   "pygments_lexer": "ipython3",
   "version": "3.8.8"
  }
 },
 "nbformat": 4,
 "nbformat_minor": 5
}
